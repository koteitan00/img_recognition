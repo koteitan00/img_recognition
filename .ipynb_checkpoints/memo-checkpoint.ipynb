{
 "cells": [
  {
   "cell_type": "markdown",
   "id": "12456f4a-a877-4500-b3f7-026c38a7db2a",
   "metadata": {},
   "source": [
    "## 全部"
   ]
  },
  {
   "cell_type": "code",
   "execution_count": null,
   "id": "a0ae78d1-1dae-423f-aaa0-8c77e4d2239b",
   "metadata": {},
   "outputs": [],
   "source": [
    "cd \"C:/Users/covid/text_recognition/output/\""
   ]
  },
  {
   "cell_type": "code",
   "execution_count": null,
   "id": "15a4c8bb-8bc0-46ef-8159-a26367b3580d",
   "metadata": {},
   "outputs": [],
   "source": [
    "output = read_ocr(service,\"book2.jpg\", 'ja')\n",
    "print(output)"
   ]
  },
  {
   "cell_type": "code",
   "execution_count": null,
   "id": "49b0eae6-36f0-48bf-ba31-bbbd2b0d3de4",
   "metadata": {},
   "outputs": [],
   "source": [
    "# ディレクトリ内の.jpgファイルを取得し、ファイル名でソート\n",
    "directory_path = 'C:/Users/covid/text_recognition/output'\n",
    "file_list = [filename for filename in os.listdir(directory_path) if filename.endswith('.jpg')]\n",
    "file_list.sort(key=lambda x: int(''.join(filter(str.isdigit, x))))"
   ]
  },
  {
   "cell_type": "code",
   "execution_count": null,
   "id": "ebaedc8d-7212-46e4-91c4-65af4aef5b12",
   "metadata": {},
   "outputs": [],
   "source": [
    "# OCR処理の結果を保存するリスト\n",
    "results = []"
   ]
  },
  {
   "cell_type": "code",
   "execution_count": null,
   "id": "df014aab-997d-4447-9da9-faad65c00570",
   "metadata": {},
   "outputs": [],
   "source": [
    "# OCR処理をファイル名の順番に実行\n",
    "for filename in file_list:\n",
    "    input_file = os.path.join(directory_path, filename)\n",
    "    output = read_ocr(service, input_file, 'ja')\n",
    "    results.append((filename, output))"
   ]
  },
  {
   "cell_type": "code",
   "execution_count": null,
   "id": "9fc22040-e067-4878-bf36-5249e0eef9f4",
   "metadata": {},
   "outputs": [],
   "source": [
    "# 結果を表示\n",
    "for filename, output in results:\n",
    "    print(f\"OCR Result for {filename}:\")\n",
    "    print(output)"
   ]
  }
 ],
 "metadata": {
  "kernelspec": {
   "display_name": "Python 3 (ipykernel)",
   "language": "python",
   "name": "python3"
  },
  "language_info": {
   "codemirror_mode": {
    "name": "ipython",
    "version": 3
   },
   "file_extension": ".py",
   "mimetype": "text/x-python",
   "name": "python",
   "nbconvert_exporter": "python",
   "pygments_lexer": "ipython3",
   "version": "3.10.9"
  }
 },
 "nbformat": 4,
 "nbformat_minor": 5
}
