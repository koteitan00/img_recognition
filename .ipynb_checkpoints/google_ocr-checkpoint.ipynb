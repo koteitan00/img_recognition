{
 "cells": [
  {
   "cell_type": "code",
   "execution_count": 3,
   "id": "0c082f27",
   "metadata": {
    "ExecuteTime": {
     "end_time": "2023-05-23T14:53:53.138703Z",
     "start_time": "2023-05-23T14:53:53.097171Z"
    }
   },
   "outputs": [
    {
     "ename": "ModuleNotFoundError",
     "evalue": "No module named 'heic2png'",
     "output_type": "error",
     "traceback": [
      "\u001b[1;31m---------------------------------------------------------------------------\u001b[0m",
      "\u001b[1;31mModuleNotFoundError\u001b[0m                       Traceback (most recent call last)",
      "Cell \u001b[1;32mIn[3], line 7\u001b[0m\n\u001b[0;32m      5\u001b[0m \u001b[38;5;28;01mfrom\u001b[39;00m \u001b[38;5;21;01mPIL\u001b[39;00m \u001b[38;5;28;01mimport\u001b[39;00m Image\n\u001b[0;32m      6\u001b[0m \u001b[38;5;28;01mfrom\u001b[39;00m \u001b[38;5;21;01mio\u001b[39;00m \u001b[38;5;28;01mimport\u001b[39;00m BytesIO\n\u001b[1;32m----> 7\u001b[0m \u001b[38;5;28;01mfrom\u001b[39;00m \u001b[38;5;21;01mheic2png\u001b[39;00m \u001b[38;5;28;01mimport\u001b[39;00m HEIC2PNG\n\u001b[0;32m      8\u001b[0m \u001b[38;5;28;01mfrom\u001b[39;00m \u001b[38;5;21;01mgoogle\u001b[39;00m\u001b[38;5;21;01m.\u001b[39;00m\u001b[38;5;21;01mauth\u001b[39;00m\u001b[38;5;21;01m.\u001b[39;00m\u001b[38;5;21;01mtransport\u001b[39;00m\u001b[38;5;21;01m.\u001b[39;00m\u001b[38;5;21;01mrequests\u001b[39;00m \u001b[38;5;28;01mimport\u001b[39;00m Request\n\u001b[0;32m      9\u001b[0m \u001b[38;5;28;01mfrom\u001b[39;00m \u001b[38;5;21;01mgoogle\u001b[39;00m\u001b[38;5;21;01m.\u001b[39;00m\u001b[38;5;21;01moauth2\u001b[39;00m\u001b[38;5;21;01m.\u001b[39;00m\u001b[38;5;21;01mcredentials\u001b[39;00m \u001b[38;5;28;01mimport\u001b[39;00m Credentials\n",
      "\u001b[1;31mModuleNotFoundError\u001b[0m: No module named 'heic2png'"
     ]
    }
   ],
   "source": [
    "import io\n",
    "import os\n",
    "import os.path\n",
    "import matplotlib.pyplot as plt\n",
    "from PIL import Image\n",
    "from io import BytesIO\n",
    "from heic2png import HEIC2PNG\n",
    "from google.auth.transport.requests import Request\n",
    "from google.oauth2.credentials import Credentials\n",
    "from google_auth_oauthlib.flow import InstalledAppFlow\n",
    "from googleapiclient.discovery import build\n",
    "from googleapiclient.http import MediaFileUpload\n",
    "from googleapiclient.http import MediaIoBaseDownload\n",
    "\n",
    "SCOPES = ['https://www.googleapis.com/auth/drive.file']\n",
    "MIME_TYPE = 'application/vnd.google-apps.document'\n",
    "APPLICATION_NAME = 'ipa-google-drive-api-client'\n",
    "\n",
    "def get_service():\n",
    "\n",
    "    # credentialの取得\n",
    "    creds = None\n",
    "    if os.path.exists('token.json'):\n",
    "        creds = Credentials.from_authorized_user_file('token.json', SCOPES)\n",
    "    if not creds or not creds.valid:\n",
    "        if creds and creds.expired and creds.refresh_token:\n",
    "            creds.refresh(Request())\n",
    "        else:\n",
    "            flow = InstalledAppFlow.from_client_secrets_file(\n",
    "                'google-drive-api.json', SCOPES)\n",
    "            creds = flow.run_local_server(port=0)\n",
    "        with open('token.json', 'w') as token:\n",
    "            token.write(creds.to_json())\n",
    "        \n",
    "    # serviceの取得\n",
    "    service = build('drive', 'v3', credentials=creds) \n",
    "    \n",
    "    return service\n",
    "\n",
    "def read_ocr(service, input_file, lang='en'):\n",
    "\n",
    "    # ファイルのアップロード\n",
    "\n",
    "    # ローカルファイルの定義\n",
    "    media_body = MediaFileUpload(input_file, mimetype=MIME_TYPE, resumable=True)\n",
    "\n",
    "    # Google Drive上のファイル名\n",
    "    newfile = 'output.pdf'\n",
    "\n",
    "    body = {\n",
    "        'name': newfile,\n",
    "        'mimeType': MIME_TYPE\n",
    "    }\n",
    "\n",
    "    # 　creat関数でファイルアップロード実行\n",
    "    # 同時にOCR読み取りも行う\n",
    "    output = service.files().create(\n",
    "        body=body,\n",
    "        media_body=media_body,\n",
    "        # ここで読み込み先言語の指定を行う\n",
    "        ocrLanguage=lang,\n",
    "    ).execute()\n",
    "\n",
    "    # テキストファイルのダウンロード\n",
    "\n",
    "    # リクエストオブジェクト生成\n",
    "    request = service.files().export_media(\n",
    "        fileId=output['id'],\n",
    "        mimeType = \"text/plain\"\n",
    "    )\n",
    "\n",
    "    #  出力用テキストファイル名\n",
    "    output_path = 'output.txt'\n",
    "\n",
    "    fh = io.FileIO(output_path, \"wb\")\n",
    "    downloader = MediaIoBaseDownload(fh, request)\n",
    "    done = False\n",
    "    while done is False:\n",
    "        status, done = downloader.next_chunk()\n",
    "\n",
    "    # Google Drive上のファイル削除\n",
    "    service.files().delete(fileId=output['id']).execute()\n",
    " \n",
    "    # テキストの取得\n",
    "    with open(output_path) as f:\n",
    "        mylist = f.read().splitlines()[1:]\n",
    "\n",
    "    return mylist\n",
    "\n",
    "service = get_service()"
   ]
  },
  {
   "cell_type": "code",
   "execution_count": 6,
   "id": "41ab8a48-b259-47fb-9eef-59274419ae39",
   "metadata": {},
   "outputs": [
    {
     "name": "stderr",
     "output_type": "stream",
     "text": [
      "ERROR: Could not find a version that satisfies the requirement heic2img (from versions: none)\n",
      "ERROR: No matching distribution found for heic2img\n"
     ]
    }
   ],
   "source": [
    "!pip install heic2img"
   ]
  },
  {
   "cell_type": "code",
   "execution_count": 48,
   "id": "28f2c302",
   "metadata": {
    "ExecuteTime": {
     "end_time": "2023-05-23T14:53:55.534283Z",
     "start_time": "2023-05-23T14:53:55.496611Z"
    },
    "scrolled": true
   },
   "outputs": [
    {
     "ename": "FileExistsError",
     "evalue": "",
     "output_type": "error",
     "traceback": [
      "\u001b[1;31m---------------------------------------------------------------------------\u001b[0m",
      "\u001b[1;31mFileExistsError\u001b[0m                           Traceback (most recent call last)",
      "Cell \u001b[1;32mIn[48], line 4\u001b[0m\n\u001b[0;32m      2\u001b[0m \u001b[38;5;28;01mif\u001b[39;00m \u001b[38;5;18m__name__\u001b[39m \u001b[38;5;241m==\u001b[39m \u001b[38;5;124m'\u001b[39m\u001b[38;5;124m__main__\u001b[39m\u001b[38;5;124m'\u001b[39m:\n\u001b[0;32m      3\u001b[0m     png_imgfileg \u001b[38;5;241m=\u001b[39m HEIC2PNG(\u001b[38;5;124m'\u001b[39m\u001b[38;5;124minput/IMG_3970.HEIC\u001b[39m\u001b[38;5;124m'\u001b[39m)\n\u001b[1;32m----> 4\u001b[0m     \u001b[43mpng_imgfileg\u001b[49m\u001b[38;5;241;43m.\u001b[39;49m\u001b[43msave\u001b[49m\u001b[43m(\u001b[49m\u001b[43m)\u001b[49m\n",
      "File \u001b[1;32m~\\anaconda3\\lib\\site-packages\\heic2png\\heic2png.py:24\u001b[0m, in \u001b[0;36mHEIC2PNG.save\u001b[1;34m(self, output_image_file_path, extension)\u001b[0m\n\u001b[0;32m     22\u001b[0m     output_path \u001b[38;5;241m=\u001b[39m \u001b[38;5;28mself\u001b[39m\u001b[38;5;241m.\u001b[39mimage_file_path\u001b[38;5;241m.\u001b[39mwith_name(\u001b[38;5;124mf\u001b[39m\u001b[38;5;124m\"\u001b[39m\u001b[38;5;132;01m{\u001b[39;00m\u001b[38;5;28mself\u001b[39m\u001b[38;5;241m.\u001b[39mimage_file_path\u001b[38;5;241m.\u001b[39mstem\u001b[38;5;132;01m}\u001b[39;00m\u001b[38;5;132;01m{\u001b[39;00mextension\u001b[38;5;132;01m}\u001b[39;00m\u001b[38;5;124m\"\u001b[39m)\n\u001b[0;32m     23\u001b[0m \u001b[38;5;28;01mif\u001b[39;00m output_path\u001b[38;5;241m.\u001b[39mexists():\n\u001b[1;32m---> 24\u001b[0m     \u001b[38;5;28;01mraise\u001b[39;00m \u001b[38;5;167;01mFileExistsError\u001b[39;00m\n\u001b[0;32m     25\u001b[0m \u001b[38;5;28mself\u001b[39m\u001b[38;5;241m.\u001b[39mimage\u001b[38;5;241m.\u001b[39msave(output_path)\n\u001b[0;32m     26\u001b[0m \u001b[38;5;28;01mreturn\u001b[39;00m output_path\n",
      "\u001b[1;31mFileExistsError\u001b[0m: "
     ]
    }
   ],
   "source": [
    "#heic2png(要は拡張子変更)\n",
    "if __name__ == '__main__':\n",
    "    png_imgfileg = HEIC2PNG('input/IMG_3972.jpg')\n",
    "    png_imgfileg.save() # it'll save as (samename).png"
   ]
  },
  {
   "cell_type": "code",
   "execution_count": 49,
   "id": "80f842a5",
   "metadata": {
    "ExecuteTime": {
     "end_time": "2023-05-23T14:53:58.362239Z",
     "start_time": "2023-05-23T14:53:57.333483Z"
    }
   },
   "outputs": [],
   "source": [
    "# コンフィグ\n",
    "COMPRESS_QUALITY = 90 # 圧縮のクオリティ⇒15MB低度なら調節不要だけど随時、、、\n",
    "# ファイル名を取得\n",
    "file_name = os.path.splitext(os.path.basename(png_imgfile))[0]\n",
    "with open(png_imgfile, 'rb') as inputfile:\n",
    "    # バイナリモードファイルをPILイメージで取得\n",
    "    im = Image.open(inputfile)\n",
    "    # JPEG形式に変換して、圧縮を実行\n",
    "    im = im.convert('RGB')\n",
    "    im_io = BytesIO()\n",
    "    im.save(im_io, 'JPEG', quality = COMPRESS_QUALITY)\n",
    "with open('comp_' + file_name + '.jpg', mode='wb') as outputfile:\n",
    "    # 出力ファイル(comp_png_image.png)に書き込み\n",
    "    outputfile.write(im_io.getvalue())"
   ]
  },
  {
   "cell_type": "code",
   "execution_count": 53,
   "id": "baa4c4fc",
   "metadata": {
    "ExecuteTime": {
     "end_time": "2023-05-23T15:03:19.549361Z",
     "start_time": "2023-05-23T15:03:07.006918Z"
    }
   },
   "outputs": [
    {
     "ename": "UnicodeDecodeError",
     "evalue": "'cp932' codec can't decode byte 0xef in position 0: illegal multibyte sequence",
     "output_type": "error",
     "traceback": [
      "\u001b[1;31m---------------------------------------------------------------------------\u001b[0m",
      "\u001b[1;31mUnicodeDecodeError\u001b[0m                        Traceback (most recent call last)",
      "Cell \u001b[1;32mIn[53], line 4\u001b[0m\n\u001b[0;32m      1\u001b[0m \u001b[38;5;66;03m# 日本語の場合\u001b[39;00m\n\u001b[0;32m      3\u001b[0m input_file \u001b[38;5;241m=\u001b[39m outputfile\u001b[38;5;241m.\u001b[39mname \u001b[38;5;66;03m##元々パス記載\u001b[39;00m\n\u001b[1;32m----> 4\u001b[0m output \u001b[38;5;241m=\u001b[39m \u001b[43mread_ocr\u001b[49m\u001b[43m(\u001b[49m\u001b[43mservice\u001b[49m\u001b[43m,\u001b[49m\u001b[43m \u001b[49m\u001b[43minput_file\u001b[49m\u001b[43m,\u001b[49m\u001b[43m \u001b[49m\u001b[38;5;124;43m'\u001b[39;49m\u001b[38;5;124;43mja\u001b[39;49m\u001b[38;5;124;43m'\u001b[39;49m\u001b[43m)\u001b[49m\n\u001b[0;32m      6\u001b[0m \u001b[38;5;66;03m# 結果確認\u001b[39;00m\n\u001b[0;32m      7\u001b[0m \n\u001b[0;32m      8\u001b[0m \u001b[38;5;66;03m# テキストの表示\u001b[39;00m\n\u001b[0;32m      9\u001b[0m \u001b[38;5;28mprint\u001b[39m(output)\n",
      "Cell \u001b[1;32mIn[47], line 86\u001b[0m, in \u001b[0;36mread_ocr\u001b[1;34m(service, input_file, lang)\u001b[0m\n\u001b[0;32m     84\u001b[0m \u001b[38;5;66;03m# テキストの取得\u001b[39;00m\n\u001b[0;32m     85\u001b[0m \u001b[38;5;28;01mwith\u001b[39;00m \u001b[38;5;28mopen\u001b[39m(output_path) \u001b[38;5;28;01mas\u001b[39;00m f:\n\u001b[1;32m---> 86\u001b[0m     mylist \u001b[38;5;241m=\u001b[39m \u001b[43mf\u001b[49m\u001b[38;5;241;43m.\u001b[39;49m\u001b[43mread\u001b[49m\u001b[43m(\u001b[49m\u001b[43m)\u001b[49m\u001b[38;5;241m.\u001b[39msplitlines()[\u001b[38;5;241m1\u001b[39m:]\n\u001b[0;32m     88\u001b[0m \u001b[38;5;28;01mreturn\u001b[39;00m mylist\n",
      "\u001b[1;31mUnicodeDecodeError\u001b[0m: 'cp932' codec can't decode byte 0xef in position 0: illegal multibyte sequence"
     ]
    }
   ],
   "source": [
    "# 日本語の場合\n",
    "\n",
    "input_file = outputfile.name ##bufferwriter型からパスを取得\n",
    "output = read_ocr(service, input_file, 'ja')\n",
    "\n",
    "# 結果確認\n",
    "\n",
    "# テキストの表示\n",
    "print(output)\n",
    "\n",
    "# 元イメージの表示\n",
    "img = Image.open(input_file)\n",
    "plt.figure(figsize=(10,10))\n",
    "plt.imshow(img, cmap='gray')\n",
    "plt.axis('off')\n",
    "plt.show()"
   ]
  }
 ],
 "metadata": {
  "hide_input": false,
  "kernelspec": {
   "display_name": "Python 3 (ipykernel)",
   "language": "python",
   "name": "python3"
  },
  "language_info": {
   "codemirror_mode": {
    "name": "ipython",
    "version": 3
   },
   "file_extension": ".py",
   "mimetype": "text/x-python",
   "name": "python",
   "nbconvert_exporter": "python",
   "pygments_lexer": "ipython3",
   "version": "3.11.1"
  },
  "nbTranslate": {
   "displayLangs": [
    "*"
   ],
   "hotkey": "alt-t",
   "langInMainMenu": true,
   "sourceLang": "en",
   "targetLang": "fr",
   "useGoogleTranslate": true
  },
  "toc": {
   "base_numbering": 1,
   "nav_menu": {},
   "number_sections": true,
   "sideBar": true,
   "skip_h1_title": false,
   "title_cell": "Table of Contents",
   "title_sidebar": "Contents",
   "toc_cell": false,
   "toc_position": {},
   "toc_section_display": true,
   "toc_window_display": false
  },
  "varInspector": {
   "cols": {
    "lenName": 16,
    "lenType": 16,
    "lenVar": 40
   },
   "kernels_config": {
    "python": {
     "delete_cmd_postfix": "",
     "delete_cmd_prefix": "del ",
     "library": "var_list.py",
     "varRefreshCmd": "print(var_dic_list())"
    },
    "r": {
     "delete_cmd_postfix": ") ",
     "delete_cmd_prefix": "rm(",
     "library": "var_list.r",
     "varRefreshCmd": "cat(var_dic_list()) "
    }
   },
   "types_to_exclude": [
    "module",
    "function",
    "builtin_function_or_method",
    "instance",
    "_Feature"
   ],
   "window_display": false
  }
 },
 "nbformat": 4,
 "nbformat_minor": 5
}
